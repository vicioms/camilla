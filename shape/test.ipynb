{
 "cells": [
  {
   "cell_type": "code",
   "execution_count": 15,
   "id": "ee9cc9cf",
   "metadata": {},
   "outputs": [],
   "source": [
    "import numpy as np\n",
    "from skimage import io\n",
    "from scipy.ndimage import find_objects\n",
    "from bioio import BioImage\n",
    "from skimage import measure\n",
    "from index_helper import labels_get_indices"
   ]
  },
  {
   "cell_type": "code",
   "execution_count": null,
   "id": "06d0cabc",
   "metadata": {},
   "outputs": [],
   "source": [
    "img = BioImage(\"image.nd2\")\n",
    "spacing = np.asarray(img.physical_pixel_sizes)\n",
    "image = img.get_image_data(\"ZYXC\")\n",
    "labels = io.imread(\"labels.tif\")"
   ]
  },
  {
   "cell_type": "code",
   "execution_count": null,
   "id": "91ce09c2",
   "metadata": {},
   "outputs": [],
   "source": [
    "indices_dict = labels_get_indices(labels, True, True)"
   ]
  },
  {
   "cell_type": "code",
   "execution_count": null,
   "id": "22928501",
   "metadata": {},
   "outputs": [],
   "source": [
    "measure.regionprops(labels, image)"
   ]
  }
 ],
 "metadata": {
  "kernelspec": {
   "display_name": "organoids",
   "language": "python",
   "name": "python3"
  },
  "language_info": {
   "codemirror_mode": {
    "name": "ipython",
    "version": 3
   },
   "file_extension": ".py",
   "mimetype": "text/x-python",
   "name": "python",
   "nbconvert_exporter": "python",
   "pygments_lexer": "ipython3",
   "version": "3.13.7"
  }
 },
 "nbformat": 4,
 "nbformat_minor": 5
}
