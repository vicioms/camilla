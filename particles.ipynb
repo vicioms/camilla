{
 "cells": [
  {
   "cell_type": "code",
   "execution_count": 1,
   "metadata": {},
   "outputs": [],
   "source": [
    "import numpy as np\n",
    "from scipy.spatial import KDTree\n",
    "import matplotlib.pyplot as plt\n",
    "from numba import njit\n",
    "from matplotlib.patches import Ellipse\n",
    "import torch\n",
    "import torch.optim as optim\n",
    "from math import sqrt"
   ]
  },
  {
   "cell_type": "code",
   "execution_count": 2,
   "metadata": {},
   "outputs": [],
   "source": [
    "def compute_self_energy_gradients(sigmas, volumes, K=1, nu=1, mu=-1):\n",
    "    d = sigmas.shape[-1]\n",
    "    volumes_2 = volumes*volumes\n",
    "    determinants = np.linalg.det(sigmas)\n",
    "    inverses = np.linalg.inv(sigmas)\n",
    "    trace_inverses = np.trace(inverses, axis1=-2, axis2=-1)\n",
    "    c_2 = 1.0/(((2*np.pi)**(d/2))*(2**(d/2))*(np.sqrt(determinants)))\n",
    "    c_4 = 1.0/(((2*np.pi)**(3*d/2))*(2**(3*d/2))*(determinants**(3.0/2.0)))\n",
    "    E_V_grads = ((K/2)*trace_inverses*c_2 + nu*volumes_2*c_4 + mu*c_2)*volumes\n",
    "    E_sigma_grads = (-volumes_2[:,None,None]/4)*(((3*nu/2)*(c_4*volumes_2)[:,None,None] + mu*c_2[:,None,None])*inverses + K*c_2[:,None,None]*( inverses @ inverses + 0.5*trace_inverses[:,None,None]*inverses) )\n",
    "    return E_sigma_grads, E_V_grads"
   ]
  },
  {
   "cell_type": "code",
   "execution_count": 34,
   "metadata": {},
   "outputs": [],
   "source": [
    "N = 5\n",
    "sigmas = np.repeat(np.eye(2)[None,:,:], N, axis=0)\n",
    "volumes = np.ones(N)\n",
    "avg_vol = []\n",
    "avg_sigma2 = []\n",
    "dt = 0.01\n",
    "for step in range(1000000):\n",
    "    sigma_grads, volume_grads = compute_self_energy_gradients(sigmas, volumes,K=1, nu=1.0, mu=-1.)\n",
    "    sigmas -= dt*sigma_grads\n",
    "    #volumes -= dt*volume_grads\n",
    "    avg_vol.append(volumes.mean())\n",
    "    avg_sigma2.append(sigmas[:,0,0].mean())\n",
    "avg_vol = np.array(avg_vol)\n",
    "avg_sigma2 = np.array(avg_sigma2)"
   ]
  },
  {
   "cell_type": "code",
   "execution_count": 40,
   "metadata": {},
   "outputs": [
    {
     "data": {
      "image/png": "[encoded data removed]",
      "text/plain": [
       "<Figure size 640x480 with 1 Axes>"
      ]
     },
     "metadata": {},
     "output_type": "display_data"
    }
   ],
   "source": [
    "plt.plot(avg_sigma2)\n",
    "plt.xscale('log')"
   ]
  },
  {
   "cell_type": "code",
   "execution_count": null,
   "metadata": {},
   "outputs": [],
   "source": [
    "L = 4\n",
    "N = 64\n",
    "r = torch.Tensor((2*np.random.rand(N,2) - 1.0)*L)\n",
    "sigma = torch.Tensor(np.repeat(np.eye(2)[None,:,:], N, axis=0)).requires_grad_(True)\n",
    "optimizer = optim.SGD([sigma], lr=0.001, momentum=0, dampening=0, weight_decay=0, nesterov=False)\n",
    "for step in range(100):\n",
    "    det_S = torch.linalg.det(sigma)\n",
    "    inv_S = torch.linalg.inv(sigma)\n",
    "    C_2 = torch.sqrt(det_S)*sqrt(2*torch.pi)/4\n",
    "    energy = inv_S*det_S"
   ]
  },
  {
   "cell_type": "code",
   "execution_count": null,
   "metadata": {},
   "outputs": [],
   "source": [
    "C_2"
   ]
  },
  {
   "cell_type": "code",
   "execution_count": null,
   "metadata": {},
   "outputs": [],
   "source": [
    "@njit\n",
    "def compute_gradients(r, sigma, indices, K_tilde, g_tilde, alpha):\n",
    "    N = r.shape[0]\n",
    "    determinants = np.zeros(N)\n",
    "    for i in range(N):\n",
    "        determinants[i] =  np.linalg.det(sigma[i])\n",
    "    sigma_gradients = np.zeros_like(sigma)\n",
    "    for i in range(N):\n",
    "        sigma_inv_i = np.linalg.inv(sigma[i,:,:]) \n",
    "        sigma_gradients[i,:,:] = K_tilde*np.sqrt(determinants[i])*(0.5*np.trace(sigma_inv_i)*sigma_inv_i - sigma_inv_i @ sigma_inv_i)\n",
    "        sigma_gradients[i,:,:] += g_tilde*0.5*np.sqrt(determinants[i])*sigma_inv_i\n",
    "        for j in indices[i,:]:\n",
    "            if(i == j):\n",
    "                continue\n",
    "            dr = r[i,:]  - r[j,:] \n",
    "            outer_dr = dr[:,None]*dr[None:]\n",
    "            sum_sigmas = sigma[i,:,:] + sigma[j,:,:]\n",
    "            sum_sigmas_inv_ij = np.linalg.inv(sum_sigmas)\n",
    "            determinants_ratio_ij = determinants[i]*determinants[j]/np.linalg.det(sum_sigmas)\n",
    "            overlap = np.exp(-0.5*(dr @ sum_sigmas_inv_ij @ dr) + 0.5*np.log(determinants_ratio_ij))\n",
    "            sigma_gradients[i,:,:] -= 0.5*alpha*overlap*( sum_sigmas_inv_ij @ outer_dr @ sum_sigmas_inv_ij + sum_sigmas_inv_ij - sigma_inv_i )/len((indices)-1)\n",
    "    return sigma_gradients"
   ]
  },
  {
   "cell_type": "code",
   "execution_count": null,
   "metadata": {},
   "outputs": [],
   "source": [
    "dt = 0.001\n",
    "N = 256\n",
    "L = 4\n",
    "\n",
    "for step in range(5000):\n",
    "    tree = KDTree(r)\n",
    "    distances, indices = tree.query(r, 10)\n",
    "    grads = compute_gradients(r, sigma, indices, 0.0, -0.1, 2.0)\n",
    "    sigma -= dt*grads\n",
    "    if(step % 100 == 0):\n",
    "        print(np.sqrt(np.linalg.det(sigma)).mean())"
   ]
  },
  {
   "cell_type": "code",
   "execution_count": null,
   "metadata": {},
   "outputs": [],
   "source": [
    "plt.hist(np.sqrt(np.linalg.det(sigma)),bins=20)"
   ]
  },
  {
   "cell_type": "code",
   "execution_count": null,
   "metadata": {},
   "outputs": [],
   "source": [
    "fig, ax = plt.subplots()\n",
    "for i in range(N):\n",
    "    vals, vecs = np.linalg.eigh(sigma[i])\n",
    "    order = vals.argsort()[::-1]\n",
    "    vals, vecs = vals[order], vecs[:, order]\n",
    "    # Width and height are \"full lengths\" of the axes\n",
    "    width, height = np.sqrt(vals)/2\n",
    "    angle = np.degrees(np.arctan2(*vecs[:, 0][::-1]))  # angle of major axis\n",
    "\n",
    "    ellipse = Ellipse(xy=r[i,:], width=width, height=height, angle=angle, linewidth=0.1, edgecolor='black', facecolor='white')\n",
    "    ax.add_patch(ellipse)\n",
    "plt.scatter(r[:,0], r[:,1], color='black', s=1)\n",
    "ax.set_aspect('equal')\n",
    "plt.show()"
   ]
  },
  {
   "cell_type": "code",
   "execution_count": null,
   "metadata": {},
   "outputs": [],
   "source": []
  }
 ],
 "metadata": {
  "kernelspec": {
   "display_name": "wings",
   "language": "python",
   "name": "python3"
  },
  "language_info": {
   "codemirror_mode": {
    "name": "ipython",
    "version": 3
   },
   "file_extension": ".py",
   "mimetype": "text/x-python",
   "name": "python",
   "nbconvert_exporter": "python",
   "pygments_lexer": "ipython3",
   "version": "3.12.2"
  }
 },
 "nbformat": 4,
 "nbformat_minor": 2
}
