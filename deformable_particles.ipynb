{
 "cells": [
  {
   "cell_type": "code",
   "execution_count": null,
   "id": "129d31bc",
   "metadata": {},
   "outputs": [],
   "source": [
    "import numpy as np\n",
    "import torch\n",
    "import torch.optim as optim\n",
    "import matplotlib.pyplot as plt\n",
    "from scipy.spatial import Voronoi\n",
    "from collections import defaultdict"
   ]
  },
  {
   "cell_type": "code",
   "execution_count": null,
   "id": "5bbfd7db",
   "metadata": {},
   "outputs": [],
   "source": [
    "N = 128\n",
    "L = 10\n",
    "sigma02 = (L**2)/N\n",
    "x = torch.rand((N,2))*L\n",
    "x = x.cuda().requires_grad_(True)\n",
    "sigma2 = torch.rand(N)*sigma02 + sigma02\n",
    "sigma2 = sigma2.cuda().requires_grad_(True)\n",
    "gamma_b = 1\n",
    "gamma_s = 1.0"
   ]
  },
  {
   "cell_type": "code",
   "execution_count": null,
   "id": "d54d0ab0",
   "metadata": {},
   "outputs": [],
   "source": [
    "lr = 0.001\n",
    "for step in range(1000):\n",
    "    \n",
    "    with torch.no_grad():\n",
    "        mask = torch.isfinite(sigma2)\n",
    "        x = x[mask].requires_grad_(True)\n",
    "        sigma2 = sigma2[mask].requires_grad_(True)\n",
    "    with torch.no_grad():\n",
    "        x_cpu = x.cpu().numpy()\n",
    "        vor = Voronoi(x_cpu, incremental=False)\n",
    "        edgelist = torch.LongTensor(vor.ridge_points).t().cuda()\n",
    "        plt.scatter(x_cpu[:,0], x_cpu[:,1])\n",
    "        plt.show()\n",
    "    dx_interacting = torch.diff(x[edgelist],dim=0).squeeze(0)\n",
    "    sigma2_interacting = sigma2[edgelist]\n",
    "    sum_of_sigma2 = torch.sum(sigma2_interacting, dim=0)\n",
    "    prod_of_sigma2 = torch.prod(sigma2_interacting, dim=0)\n",
    "    dx2_over_ss2 = (torch.sum(dx_interacting**2.0, dim=1))/sum_of_sigma2\n",
    "    overlaps = (prod_of_sigma2/sum_of_sigma2)*torch.exp(-0.5*dx2_over_ss2)\n",
    "    bulk_and_surface_terms = gamma_b + gamma_s*( 2 - dx2_over_ss2 )/sum_of_sigma2\n",
    "    energy = (overlaps*bulk_and_surface_terms).sum()\n",
    "    energy.backward()\n",
    "    with torch.no_grad():\n",
    "        x = x - lr*x.grad\n",
    "        sigma2 = sigma2 -  lr*sigma2.grad"
   ]
  },
  {
   "cell_type": "code",
   "execution_count": null,
   "id": "0ebbdf16",
   "metadata": {},
   "outputs": [],
   "source": [
    "with torch.no_grad():\n",
    "    x_cpu = x.cpu().numpy()\n",
    "    sigma2_cpu = sigma2.cpu().numpy()\n",
    "    plt.scatter(x_cpu[:,0], x_cpu[:,1])"
   ]
  }
 ],
 "metadata": {
  "kernelspec": {
   "display_name": "sam",
   "language": "python",
   "name": "python3"
  },
  "language_info": {
   "codemirror_mode": {
    "name": "ipython",
    "version": 3
   },
   "file_extension": ".py",
   "mimetype": "text/x-python",
   "name": "python",
   "nbconvert_exporter": "python",
   "pygments_lexer": "ipython3",
   "version": "3.12.3"
  }
 },
 "nbformat": 4,
 "nbformat_minor": 5
}
