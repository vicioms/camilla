{
 "cells": [
  {
   "cell_type": "code",
   "execution_count": 14,
   "id": "4f5e7478",
   "metadata": {},
   "outputs": [],
   "source": [
    "import numpy as np\n",
    "import networkx as nx\n",
    "import ipywidgets as widgets\n",
    "from IPython.display import display\n",
    "import plotly.graph_objects as go\n",
    "import plotly.express as px\n",
    "from pathlib import Path\n",
    "import json\n",
    "from mesh_utils import load_and_process_mesh\n",
    "import matplotlib.pyplot as plt\n",
    "import igl\n",
    "import scipy.sparse as sp"
   ]
  },
  {
   "cell_type": "markdown",
   "id": "d5d3f1b0",
   "metadata": {},
   "source": [
    "### Load Meshes"
   ]
  },
  {
   "cell_type": "code",
   "execution_count": 15,
   "id": "c818729e",
   "metadata": {},
   "outputs": [],
   "source": [
    "base_dir = Path(\"/Users/schimmenti/Desktop/DresdenProjects/wingsurface/final_meshes/wildtype/\")\n",
    "json_file_with_infos = base_dir.joinpath(\"mesh_infos.json\")\n",
    "mesh_infos_dict = json.load(open(json_file_with_infos))\n",
    "mesh_infos_dict = { identifier : info for identifier, info in sorted(mesh_infos_dict.items())}"
   ]
  },
  {
   "cell_type": "code",
   "execution_count": 16,
   "id": "641d52bb",
   "metadata": {},
   "outputs": [],
   "source": [
    "def load_mesh(mesh_info):\n",
    "    scale = mesh_info['scale'] if 'scale' in mesh_info else 1.0\n",
    "    flip0 = mesh_info['flip0'] if 'flip0' in mesh_info else False\n",
    "    flip1 = mesh_info['flip1'] if 'flip1' in mesh_info else False\n",
    "    flip2 = mesh_info['flip2'] if 'flip2' in mesh_info else False\n",
    "    vertices, triangles  = load_and_process_mesh(base_dir.joinpath(mesh_info['filename']), scale=scale, flip0=flip0, flip1=flip1, flip2=flip2, return_as_open3d_mesh=False)\n",
    "    #if(loaded_mesh.is_vertex_manifold()==False):\n",
    "    #    print(f\"Mesh {mesh_identifier} is not vertex manifold!\")\n",
    "    #if(loaded_mesh.is_edge_manifold()==False):\n",
    "    #    print(f\"Mesh {mesh_identifier} is not edge manifold!\")\n",
    "    #vertices, triangles = np.asarray(loaded_mesh.vertices), np.asarray(loaded_mesh.triangles)\n",
    "    adjList = igl.adjacency_list(triangles)\n",
    "    adjGraph = nx.from_dict_of_lists({ i : list(adjList[i])  for i in range(len(adjList))})\n",
    "    cotmatrix = igl.cotmatrix(vertices, triangles)\n",
    "    massmatrix = igl.massmatrix(vertices, triangles, igl.MASSMATRIX_TYPE_VORONOI)\n",
    "    vertex_normals = igl.per_vertex_normals(vertices, triangles)\n",
    "    laplacian = sp.linalg.inv(massmatrix) @ cotmatrix\n",
    "    mean_curvature = np.sum((laplacian @ vertices)*vertex_normals, axis=1)\n",
    "    pc_res = igl.principal_curvature(vertices, triangles)[:4]\n",
    "    mesh_dict = {}\n",
    "    mesh_dict['vertices'] = vertices\n",
    "    mesh_dict['triangles'] = triangles\n",
    "    #mesh_dict['adjList'] = adjList\n",
    "    mesh_dict['adjGraph'] = adjGraph\n",
    "    mesh_dict['cotmatrix'] = cotmatrix\n",
    "    mesh_dict['massmatrix'] = massmatrix\n",
    "    mesh_dict['laplacian'] = laplacian\n",
    "    mesh_dict['vertex_normals'] = vertex_normals\n",
    "    mesh_dict['mean_curvature'] = mean_curvature\n",
    "    mesh_dict['principal_curvature_1'] = pc_res[0]\n",
    "    mesh_dict['principal_curvature_2'] = pc_res[1]\n",
    "    return mesh_dict"
   ]
  },
  {
   "cell_type": "code",
   "execution_count": 17,
   "id": "1b01e0fd",
   "metadata": {},
   "outputs": [],
   "source": [
    "#meshes_dict = {}\n",
    "#for mesh_identifier, mesh_info in mesh_infos_dict.items():\n",
    "#    scale = mesh_info['scale'] if 'scale' in mesh_info else 1.0\n",
    "#    flip0 = mesh_info['flip0'] if 'flip0' in mesh_info else False\n",
    "#    flip1 = mesh_info['flip1'] if 'flip1' in mesh_info else False\n",
    "#    flip2 = mesh_info['flip2'] if 'flip2' in mesh_info else False\n",
    "#    mesh_dict = load_mesh(mesh_info)\n",
    "#    break\n",
    "#    #fig = plt.figure()\n",
    "#    #ax = fig.add_subplot(111, projection='3d')\n",
    "#    #ax.plot_trisurf(vertices[:, 1], vertices[:, 2], triangles, vertices[:, 0], cmap=plt.cm.Spectral, linewidth=0.2)\n",
    "#    #ax.set_title(mesh_identifier)\n",
    "#    #ax.set_aspect('equal')\n",
    "#    #plt.show()"
   ]
  },
  {
   "cell_type": "markdown",
   "id": "15be20d4",
   "metadata": {},
   "source": [
    "### Annotate"
   ]
  },
  {
   "cell_type": "code",
   "execution_count": 18,
   "id": "5f0e9686",
   "metadata": {},
   "outputs": [],
   "source": [
    "clusters = {}\n",
    "annotations = {}\n",
    "params = {}\n",
    "enlarged_clusters = {}"
   ]
  },
  {
   "cell_type": "code",
   "execution_count": 19,
   "id": "7337098a",
   "metadata": {},
   "outputs": [],
   "source": [
    "file_keys = list(mesh_infos_dict.keys())"
   ]
  },
  {
   "cell_type": "code",
   "execution_count": 34,
   "id": "9b9a3b47",
   "metadata": {},
   "outputs": [],
   "source": [
    "def inflate_component(graph : nx.Graph, nodes, dist : int):\n",
    "    if dist <= 0:\n",
    "        return set(nodes)\n",
    "    inflated = set(nodes)\n",
    "    frontier = set(nodes)\n",
    "    for _ in range(dist):\n",
    "        next_frontier = set()\n",
    "        for node in frontier:\n",
    "            next_frontier.update(graph.neighbors(node))\n",
    "        next_frontier -= inflated\n",
    "        inflated.update(next_frontier)\n",
    "        frontier = next_frontier\n",
    "        if not frontier:\n",
    "            break\n",
    "    return inflated\n",
    "class MeshSegmentation:\n",
    "    def __init__(self, vertices, triangles, adjGraph, mean_curvature, principal_curvature_1, principal_curvature_2):\n",
    "        self.vertices = vertices\n",
    "        self.triangles = triangles\n",
    "        self.adjGraph = adjGraph\n",
    "        self.mean_curvature = mean_curvature\n",
    "        self.principal_curvature_1 = principal_curvature_1\n",
    "        self.principal_curvature_2 = principal_curvature_2\n",
    "        self.principal_curvature_2_percentiles = np.percentile(self.principal_curvature_2, np.arange(0, 101, 1))\n",
    "        self.num_vertices = len(vertices)\n",
    "        self.H_min_mask = np.ones(self.num_vertices, dtype=bool)\n",
    "        self.H_max_mask = np.ones(self.num_vertices, dtype=bool)\n",
    "        self.H_min = np.inf\n",
    "        self.H_max = -np.inf\n",
    "        self.pc2_mask = np.ones(self.num_vertices, dtype=bool)\n",
    "        self.pc2_percentile = 0\n",
    "        self.inflate_dist = 0\n",
    "        self.clusters = []\n",
    "        self.inflated_clusters = []\n",
    "        self.num_clusters = 0\n",
    "    \n",
    "    def update(self, H_min : float, H_max : float, pc2_percentile : float, inflate_dist : int):\n",
    "        needs_update = False\n",
    "        if(H_min is not None and H_min!=self.H_min):\n",
    "            needs_update = True\n",
    "            self.H_min = H_min\n",
    "            self.H_min_mask = self.mean_curvature >= self.H_min\n",
    "        if(H_max is not None and H_max!=self.H_max):\n",
    "            needs_update = True\n",
    "            self.H_max = H_max\n",
    "            self.H_max_mask = self.mean_curvature <= self.H_max\n",
    "        if(pc2_percentile is not None):\n",
    "            int_pc2_percentile = min(max(int(pc2_percentile), 0),100)\n",
    "            if(int_pc2_percentile!=self.pc2_percentile):\n",
    "                needs_update = True\n",
    "                self.pc2_percentile = int_pc2_percentile\n",
    "                self.pc2_mask = self.principal_curvature_2 < self.principal_curvature_2_percentiles[self.pc2_percentile]\n",
    "        if(inflate_dist is not None):\n",
    "            if(inflate_dist != self.inflate_dist):\n",
    "                needs_update = True\n",
    "                self.inflate_dist = inflate_dist            \n",
    "        if(needs_update):\n",
    "            mask = self.H_min_mask & self.H_max_mask & self.pc2_mask\n",
    "            subgraph = self.adjGraph.subgraph(np.where(self.mask)[0])\n",
    "            found_clusters = sorted(list(nx.connected_components(self.subgraph)), key=len, reverse=True)\n",
    "            self.clusters.clear()\n",
    "            self.inflated_clusters.clear()\n",
    "            self.num_clusters = len(found_clusters)\n",
    "            self.clusters = [np.array(list(cluster)) for cluster in found_clusters]\n",
    "            for i, cluster in enumerate(found_clusters):\n",
    "                inflated = inflate_component(self.adjGraph, cluster, self.inflate_dist)\n",
    "                self.inflated_clusters.append(np.array(list(inflated)))"
   ]
  },
  {
   "cell_type": "code",
   "execution_count": null,
   "id": "19874cbd",
   "metadata": {},
   "outputs": [
    {
     "data": {
      "application/vnd.jupyter.widget-view+json": {
       "model_id": "63ca92baf0e74d86bbca3ef2afc8acd2",
       "version_major": 2,
       "version_minor": 0
      },
      "text/plain": [
       "VBox(children=(Dropdown(description='Sample', options=('20201022_ecadGFPnbG4_2hAPF_disc1', '20201022_ecadGFPnb…"
      ]
     },
     "metadata": {},
     "output_type": "display_data"
    },
    {
     "data": {
      "application/vnd.jupyter.widget-view+json": {
       "model_id": "59f5d3197bec49ccb96f5c9c157aee6c",
       "version_major": 2,
       "version_minor": 0
      },
      "text/plain": [
       "FigureWidget({\n",
       "    'data': [],\n",
       "    'layout': {'height': 400,\n",
       "               'legend': {'itemsizing': 'constant'},\n",
       "               'margin': {'b': 0, 'l': 0, 'r': 0, 't': 60},\n",
       "               'scene': {'aspectmode': 'data',\n",
       "                         'uirevision': 'keep',\n",
       "                         'xaxis': {'title': {'text': 'y'}},\n",
       "                         'yaxis': {'title': {'text': 'z'}},\n",
       "                         'zaxis': {'title': {'text': 'x'}}},\n",
       "               'template': '...',\n",
       "               'title': {'text': ''},\n",
       "               'width': 800}\n",
       "})"
      ]
     },
     "metadata": {},
     "output_type": "display_data"
    }
   ],
   "source": [
    "sample_id_widget = widgets.Dropdown(options=file_keys, description='Sample')\n",
    "use_pc2_widget = widgets.Checkbox(value=True, description='Use k2')\n",
    "pc2_percentile_widget = widgets.IntSlider(value=20, min=0, max=100, step=1, description='k2 perc.')\n",
    "use_mean_curv_widget = widgets.Checkbox(value=True, description='Use H')\n",
    "mean_curv_min_widget = widgets.FloatText(value=0.1, description='H min')\n",
    "mean_curv_max_widget = widgets.FloatText(value=3.0, description='H max')\n",
    "inflate_dist_widget = widgets.IntText(value=0, description='Inflate')\n",
    "\n",
    "mesh_segmentation = None\n",
    "current_sample_id = None\n",
    "\n",
    "fig = go.FigureWidget()\n",
    "fig.update_layout(\n",
    "    title=\"\",\n",
    "    width=800, height=400,\n",
    "    scene=dict(\n",
    "        xaxis_title='y', yaxis_title='z', zaxis_title='x',\n",
    "        aspectmode='data',\n",
    "        uirevision=\"keep\"  # preserve camera/zoom\n",
    "    ),\n",
    "    margin=dict(l=0, r=0, t=60, b=0),\n",
    "    legend=dict(itemsizing='constant')\n",
    ")\n",
    "palette = px.colors.qualitative.T10\n",
    "\n",
    "def update_plot(*_):\n",
    "    global mesh_segmentation, current_sample_id\n",
    "    sample_id      = sample_id_widget.value\n",
    "    use_pc2        = use_pc2_widget.value\n",
    "    pc2_percentile = pc2_percentile_widget.value\n",
    "    use_mean_curv  = use_mean_curv_widget.value\n",
    "    mean_curv_min  = mean_curv_min_widget.value\n",
    "    mean_curv_max  = mean_curv_max_widget.value\n",
    "    inflate_dist   = inflate_dist_widget.value\n",
    "    if(current_sample_id is None or current_sample_id != sample_id):\n",
    "        \n",
    "        current_sample_id = sample_id\n",
    "        mesh_info = mesh_infos_dict[current_sample_id]\n",
    "        mesh_dict = load_mesh(mesh_info)\n",
    "        mesh_segmentation = MeshSegmentation(mesh_dict['vertices'], mesh_dict['triangles'], mesh_dict['adjGraph'], mesh_dict['mean_curvature'], mesh_dict['principal_curvature_1'], mesh_dict['principal_curvature_2'])\n",
    "        mesh_segmentation.update(\n",
    "            H_min = mean_curv_min if use_mean_curv else None,\n",
    "            H_max = mean_curv_max if use_mean_curv else None,\n",
    "            pc2_percentile = pc2_percentile if use_pc2 else None,\n",
    "            inflate_dist = inflate_dist\n",
    "        )\n",
    "        redraw_everything = True\n",
    "    else:\n",
    "        redraw_everything = False\n",
    "    \n",
    "    with fig.batch_update():\n",
    "        if(redraw_everything):\n",
    "            fig.data = []  # clear all traces\n",
    "            vertices = mesh_segmentation.vertices\n",
    "            fig.add_trace(go.Scatter3d(\n",
    "                x=vertices[:, 1], y=vertices[:, 2], z=vertices[:, 0],\n",
    "                mode='markers',\n",
    "                marker=dict(size=1, opacity=0.5, color='gray'),\n",
    "                name='Mesh'\n",
    "            ))\n",
    "        else:\n",
    "            fig.data = fig.data[:1]\n",
    "ui = widgets.VBox([\n",
    "    sample_id_widget,\n",
    "    widgets.HBox([use_pc2_widget, pc2_percentile_widget]),\n",
    "    widgets.HBox([use_mean_curv_widget, mean_curv_min_widget, mean_curv_max_widget]),\n",
    "    widgets.HBox([inflate_dist_widget])\n",
    "])\n",
    "\n",
    "display(ui, fig)"
   ]
  },
  {
   "cell_type": "code",
   "execution_count": null,
   "id": "f21a2252",
   "metadata": {},
   "outputs": [],
   "source": []
  }
 ],
 "metadata": {
  "kernelspec": {
   "display_name": "flywings",
   "language": "python",
   "name": "python3"
  },
  "language_info": {
   "codemirror_mode": {
    "name": "ipython",
    "version": 3
   },
   "file_extension": ".py",
   "mimetype": "text/x-python",
   "name": "python",
   "nbconvert_exporter": "python",
   "pygments_lexer": "ipython3",
   "version": "3.13.7"
  }
 },
 "nbformat": 4,
 "nbformat_minor": 5
}
