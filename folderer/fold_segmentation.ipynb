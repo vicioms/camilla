{
 "cells": [
  {
   "cell_type": "code",
   "execution_count": 5,
   "id": "4f5e7478",
   "metadata": {},
   "outputs": [],
   "source": [
    "import numpy as np\n",
    "import networkx as nx\n",
    "import ipywidgets as widgets\n",
    "from IPython.display import display\n",
    "import plotly.graph_objects as go\n",
    "import plotly.express as px\n",
    "from pathlib import Path\n",
    "import json\n",
    "from mesh_utils import load_and_process_mesh\n",
    "import matplotlib.pyplot as plt\n",
    "import igl\n",
    "import scipy.sparse as sp"
   ]
  },
  {
   "cell_type": "markdown",
   "id": "d5d3f1b0",
   "metadata": {},
   "source": [
    "### Load Meshes"
   ]
  },
  {
   "cell_type": "code",
   "execution_count": 18,
   "id": "c818729e",
   "metadata": {},
   "outputs": [],
   "source": [
    "base_dir = Path(\"/Users/schimmenti/Desktop/DresdenProjects/wingsurface/final_meshes/wildtype/\")\n",
    "json_file_with_infos = base_dir.joinpath(\"mesh_infos.json\")\n",
    "mesh_infos_dict = json.load(open(json_file_with_infos))\n",
    "mesh_infos_dict = { identifier : info for identifier, info in sorted(mesh_infos_dict.items())}"
   ]
  },
  {
   "cell_type": "code",
   "execution_count": 31,
   "id": "641d52bb",
   "metadata": {},
   "outputs": [],
   "source": [
    "def load_mesh(mesh_info):\n",
    "    scale = mesh_info['scale'] if 'scale' in mesh_info else 1.0\n",
    "    flip0 = mesh_info['flip0'] if 'flip0' in mesh_info else False\n",
    "    flip1 = mesh_info['flip1'] if 'flip1' in mesh_info else False\n",
    "    flip2 = mesh_info['flip2'] if 'flip2' in mesh_info else False\n",
    "    vertices, triangles  = load_and_process_mesh(base_dir.joinpath(mesh_info['filename']), scale=scale, flip0=flip0, flip1=flip1, flip2=flip2, return_as_open3d_mesh=False)\n",
    "    #if(loaded_mesh.is_vertex_manifold()==False):\n",
    "    #    print(f\"Mesh {mesh_identifier} is not vertex manifold!\")\n",
    "    #if(loaded_mesh.is_edge_manifold()==False):\n",
    "    #    print(f\"Mesh {mesh_identifier} is not edge manifold!\")\n",
    "    #vertices, triangles = np.asarray(loaded_mesh.vertices), np.asarray(loaded_mesh.triangles)\n",
    "    adjList = igl.adjacency_list(triangles)\n",
    "    adjGraph = nx.from_dict_of_lists({ i : list(adjList[i])  for i in range(len(adjList))})\n",
    "    cotmatrix = igl.cotmatrix(vertices, triangles)\n",
    "    massmatrix = igl.massmatrix(vertices, triangles, igl.MASSMATRIX_TYPE_VORONOI)\n",
    "    vertex_normals = igl.per_vertex_normals(vertices, triangles)\n",
    "    laplacian = sp.linalg.inv(massmatrix) @ cotmatrix\n",
    "    mean_curvature = np.sum((laplacian @ vertices)*vertex_normals, axis=1)\n",
    "    pc_res = igl.principal_curvature(vertices, triangles)[:4]\n",
    "    mesh_dict = {}\n",
    "    mesh_dict['vertices'] = vertices\n",
    "    mesh_dict['triangles'] = triangles\n",
    "    #mesh_dict['adjList'] = adjList\n",
    "    mesh_dict['adjGraph'] = adjGraph\n",
    "    mesh_dict['cotmatrix'] = cotmatrix\n",
    "    mesh_dict['massmatrix'] = massmatrix\n",
    "    mesh_dict['laplacian'] = laplacian\n",
    "    mesh_dict['vertex_normals'] = vertex_normals\n",
    "    mesh_dict['mean_curvature'] = mean_curvature\n",
    "    mesh_dict['principal_curvature_1'] = pc_res[0]\n",
    "    mesh_dict['principal_curvature_2'] = pc_res[1]\n",
    "    return mesh_dict"
   ]
  },
  {
   "cell_type": "code",
   "execution_count": 32,
   "id": "1b01e0fd",
   "metadata": {},
   "outputs": [],
   "source": [
    "meshes_dict = {}\n",
    "for mesh_identifier, mesh_info in mesh_infos_dict.items():\n",
    "    scale = mesh_info['scale'] if 'scale' in mesh_info else 1.0\n",
    "    flip0 = mesh_info['flip0'] if 'flip0' in mesh_info else False\n",
    "    flip1 = mesh_info['flip1'] if 'flip1' in mesh_info else False\n",
    "    flip2 = mesh_info['flip2'] if 'flip2' in mesh_info else False\n",
    "    mesh_dict = load_mesh(mesh_info)\n",
    "    break\n",
    "    #fig = plt.figure()\n",
    "    #ax = fig.add_subplot(111, projection='3d')\n",
    "    #ax.plot_trisurf(vertices[:, 1], vertices[:, 2], triangles, vertices[:, 0], cmap=plt.cm.Spectral, linewidth=0.2)\n",
    "    #ax.set_title(mesh_identifier)\n",
    "    #ax.set_aspect('equal')\n",
    "    #plt.show()"
   ]
  },
  {
   "cell_type": "code",
   "execution_count": null,
   "id": "e5028009",
   "metadata": {},
   "outputs": [
    {
     "data": {
      "text/plain": [
       "{'vertices': array([[ 14.79540388, 209.38479148, 124.51842279],\n",
       "        [ 16.55548715, 209.79033882, 126.67640735],\n",
       "        [ 15.92880272, 208.60573206, 123.89388882],\n",
       "        ...,\n",
       "        [194.07180059, 124.01869516, 109.20084845],\n",
       "        [194.13260618, 123.9766419 , 111.19012471],\n",
       "        [193.99635868, 125.05974324, 114.93139169]], shape=(25472, 3)),\n",
       " 'triangles': array([[22039, 21777, 21858],\n",
       "        [25470, 25462, 25471],\n",
       "        [25470, 25467, 25462],\n",
       "        ...,\n",
       "        [   10,    12,    13],\n",
       "        [    2,     5,     1],\n",
       "        [    2,     1,     0]], shape=(50518, 3), dtype=int32),\n",
       " 'adjGraph': <networkx.classes.graph.Graph at 0x17aae4320>,\n",
       " 'cotmatrix': <Compressed Sparse Column sparse matrix of dtype 'float64'\n",
       " \twith 177450 stored elements and shape (25472, 25472)>,\n",
       " 'massmatrix': <Compressed Sparse Column sparse matrix of dtype 'float64'\n",
       " \twith 25472 stored elements and shape (25472, 25472)>,\n",
       " 'laplacian': <Compressed Sparse Column sparse matrix of dtype 'float64'\n",
       " \twith 177450 stored elements and shape (25472, 25472)>,\n",
       " 'vertex_normals': array([[-0.33695128, -0.83654698,  0.43203354],\n",
       "        [-0.09677891, -0.90765946,  0.40839705],\n",
       "        [ 0.01778052, -0.9308347 ,  0.3650077 ],\n",
       "        ...,\n",
       "        [-0.98657029, -0.12609894,  0.10381775],\n",
       "        [-0.99615495, -0.08756244,  0.00285274],\n",
       "        [-0.9941265 , -0.10762375, -0.0113857 ]], shape=(25472, 3)),\n",
       " 'mean_curvature': array([-1.50504609e-14, -1.41700207e-01, -2.89385070e-01, ...,\n",
       "         2.57333896e-01,  5.78613115e-02,  2.03321077e-02], shape=(25472,)),\n",
       " 'principal_curvature_1': array([[-9.33316346e-01,  3.57223746e-01, -3.62186874e-02],\n",
       "        [ 9.85391441e-01, -1.45148861e-01, -8.90815100e-02],\n",
       "        [ 9.93968346e-01,  5.59683927e-02,  9.43104818e-02],\n",
       "        ...,\n",
       "        [-9.35157460e-02, -8.50529441e-02, -9.91978227e-01],\n",
       "        [-5.63900749e-04,  3.89699647e-02,  9.99240223e-01],\n",
       "        [-1.62237419e-02,  4.41851463e-02,  9.98891617e-01]],\n",
       "       shape=(25472, 3)),\n",
       " 'principal_curvature_2': array([[-0.12403401, -0.4154279 , -0.90112997],\n",
       "        [ 0.14013404,  0.39380975,  0.90844721],\n",
       "        [ 0.10821636, -0.36112921, -0.92621537],\n",
       "        ...,\n",
       "        [ 0.13391741, -0.98836484,  0.07211847],\n",
       "        [ 0.08760709, -0.99539648,  0.0388695 ],\n",
       "        [-0.10700138,  0.99320934, -0.04567168]], shape=(25472, 3))}"
      ]
     },
     "execution_count": 33,
     "metadata": {},
     "output_type": "execute_result"
    }
   ],
   "source": []
  },
  {
   "cell_type": "code",
   "execution_count": null,
   "id": "6feda926",
   "metadata": {},
   "outputs": [],
   "source": []
  }
 ],
 "metadata": {
  "kernelspec": {
   "display_name": "organoids",
   "language": "python",
   "name": "python3"
  },
  "language_info": {
   "codemirror_mode": {
    "name": "ipython",
    "version": 3
   },
   "file_extension": ".py",
   "mimetype": "text/x-python",
   "name": "python",
   "nbconvert_exporter": "python",
   "pygments_lexer": "ipython3",
   "version": "3.13.7"
  }
 },
 "nbformat": 4,
 "nbformat_minor": 5
}
