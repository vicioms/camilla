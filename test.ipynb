{
 "cells": [
  {
   "cell_type": "code",
   "execution_count": null,
   "metadata": {},
   "outputs": [],
   "source": [
    "import numpy as np\n",
    "import matplotlib.pyplot as plt\n",
    "from triUtils import *\n",
    "import open3d as o3d\n",
    "import pathlib\n",
    "import scipy.stats as stats\n",
    "from scipy.special import erf\n",
    "from math import sqrt\n",
    "import matplotlib"
   ]
  },
  {
   "cell_type": "code",
   "execution_count": null,
   "metadata": {},
   "outputs": [],
   "source": [
    "folder = '/Users/schimmenti/Desktop/DresdenProjects/wingsurface/vtk_meshes/'\n",
    "meshes = []\n",
    "for file in pathlib.Path(folder).glob(\"*\"):\n",
    "    if(file.is_dir()):\n",
    "        continue\n",
    "    if(file.name.endswith('.ply')):\n",
    "        mesh = o3d.io.read_triangle_mesh(str(file.absolute()))\n",
    "        verts, tris = np.asarray(mesh.vertices), np.asarray(mesh.triangles)\n",
    "        meshes.append((verts, tris))"
   ]
  },
  {
   "cell_type": "code",
   "execution_count": null,
   "metadata": {},
   "outputs": [],
   "source": [
    "for idx in range(len(meshes)):\n",
    "    verts, tris = meshes[idx]\n",
    "\n",
    "    edgelist = compute_edgelist(tris)\n",
    "\n",
    "    tri_normals, tri_areas = compute_triangle_normals(verts, tris, return_areas=True)\n",
    "    vert_normals = compute_vertex_normals(verts, tris)\n",
    "    vert_barycentric_areas = compute_vertex_barycentric_areas(verts, tris, tri_areas)\n",
    "\n",
    "    M_taubin = compute_taubin_matrices(verts, tris, vert_normals, tri_areas)\n",
    "    kappa_1, kappa_2 = compute_taubin_principal_curvatures(M_taubin, vert_normals)\n",
    "    mean_curvature = -(kappa_1+kappa_2)/2\n",
    "\n",
    "    cot_lapl_matrix = compute_cot_laplacian(verts, tris, normalize_by_areas=False, return_areas=False)\n",
    "\n",
    "    %matplotlib inline\n",
    "    hist, edges = np.histogram(mean_curvature[mean_curvature>0],bins=15,density=True)\n",
    "    hist, edges = hist[hist>0], edges[:-1][hist>0]\n",
    "    slopes = []\n",
    "    for n in range(3, hist.shape[0]):\n",
    "        slopes.append( stats.linregress(edges[:n],np.log(hist[:n])).slope)\n",
    "    median_slope = np.median(slopes)\n",
    "    min_h = -1.0/median_slope\n",
    "    max_h = 1.00\n",
    "\n",
    "    clusters = compute_graph_clustering(edgelist,mean_curvature, min_h, max_h,  min_num_points=20 )\n",
    "\n",
    "\n",
    "    %matplotlib inline\n",
    "    fig = plt.figure()\n",
    "    ax = fig.add_subplot(projection='3d')\n",
    "    #ax.scatter(verts[:,1], verts[:,2], verts[:,0], c=mean_curvature,s=1,cmap='seismic',vmin=-0.1, vmax=0.1)\n",
    "    ax.scatter(verts[:,1], verts[:,2], verts[:,0], s=0.5,color='black', alpha=0.3)\n",
    "    for cluster in clusters:\n",
    "        ax.scatter(verts[cluster,1],verts[cluster,2],verts[cluster,0],s=10)\n",
    "    ax.set_aspect('equal')\n",
    "    ax.view_init(elev=90, azim=0)\n",
    "    plt.show()"
   ]
  },
  {
   "cell_type": "code",
   "execution_count": null,
   "metadata": {},
   "outputs": [],
   "source": []
  }
 ],
 "metadata": {
  "kernelspec": {
   "display_name": "wings",
   "language": "python",
   "name": "python3"
  },
  "language_info": {
   "codemirror_mode": {
    "name": "ipython",
    "version": 3
   },
   "file_extension": ".py",
   "mimetype": "text/x-python",
   "name": "python",
   "nbconvert_exporter": "python",
   "pygments_lexer": "ipython3",
   "version": "3.12.2"
  }
 },
 "nbformat": 4,
 "nbformat_minor": 2
}
