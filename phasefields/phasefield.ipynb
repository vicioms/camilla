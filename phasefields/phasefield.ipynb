{
 "cells": [
  {
   "cell_type": "code",
   "execution_count": 1,
   "id": "da46f443",
   "metadata": {},
   "outputs": [],
   "source": [
    "import numpy as np\n",
    "import matplotlib.pyplot as plt"
   ]
  },
  {
   "cell_type": "code",
   "execution_count": 4,
   "id": "3f93a3ed",
   "metadata": {},
   "outputs": [
    {
     "data": {
      "text/plain": [
       "(100, 2048, 2048)"
      ]
     },
     "execution_count": 4,
     "metadata": {},
     "output_type": "execute_result"
    }
   ],
   "source": [
    "Nx = 2048\n",
    "Ny = 2048\n",
    "phi = np.fromfile(\"phi_final.bin\", dtype=np.float32).reshape((-1, Nx, Ny))\n",
    "phi.shape"
   ]
  },
  {
   "cell_type": "code",
   "execution_count": 5,
   "id": "f11d6d44",
   "metadata": {},
   "outputs": [],
   "source": [
    "# Animate a scalar field phi[t, x, y] with shape (T, Nx, Ny) in a Jupyter notebook cell\n",
    "\n",
    "import numpy as np\n",
    "import matplotlib.pyplot as plt\n",
    "from matplotlib.animation import FuncAnimation\n",
    "from IPython.display import HTML\n",
    "\n",
    "def animate_phi(phi, fps=20, cmap=\"bwr\", vmin=None, vmax=None, interval=None,\n",
    "                repeat=True, save_path=None, dpi=120, origin=\"lower\", title=None):\n",
    "    \"\"\"\n",
    "    Show (and optionally save) an animation of phi with shape (T, Nx, Ny).\n",
    "\n",
    "    Parameters\n",
    "    ----------\n",
    "    phi : np.ndarray, shape (T, Nx, Ny)\n",
    "    fps : int            Frames per second for display/saving\n",
    "    cmap : str           Matplotlib colormap\n",
    "    vmin, vmax : float   Color limits; if None, use symmetric around max(|phi|)\n",
    "    interval : int       Delay between frames in ms; if None, computed from fps\n",
    "    repeat : bool        Loop animation\n",
    "    save_path : str      If endswith('.mp4') or '.gif', will save to that file\n",
    "    dpi : int            Output DPI for saving\n",
    "    origin : str         'lower' (typical for fields) or 'upper'\n",
    "    title : str          Optional title on the plot\n",
    "\n",
    "    Returns\n",
    "    -------\n",
    "    HTML object for inline display (also shows automatically in notebooks).\n",
    "    \"\"\"\n",
    "    assert phi.ndim == 3, \"phi must be (T, Nx, Ny)\"\n",
    "    T, Nx, Ny = phi.shape\n",
    "\n",
    "    # imshow expects (Ny, Nx); our frame is (Nx, Ny) → transpose\n",
    "    # compute color limits\n",
    "    if vmin is None or vmax is None:\n",
    "        m = np.nanmax(np.abs(phi))\n",
    "        vmin = -m if vmin is None else vmin\n",
    "        vmax =  m if vmax is None else vmax\n",
    "\n",
    "    if interval is None:\n",
    "        interval = int(1000 / fps)\n",
    "\n",
    "    fig, ax = plt.subplots(figsize=(6, 5))\n",
    "    im = ax.imshow(phi[0].T, cmap=cmap, vmin=vmin, vmax=vmax, origin=origin, animated=True)\n",
    "    cbar = plt.colorbar(im, ax=ax, pad=0.02, fraction=0.046)\n",
    "    ax.set_xlabel(\"x\")\n",
    "    ax.set_ylabel(\"y\")\n",
    "    if title is None:\n",
    "        title = \"t = 0 / {}\".format(T-1)\n",
    "    tt = ax.set_title(title)\n",
    "\n",
    "    def update(frame_idx):\n",
    "        im.set_array(phi[frame_idx].T)\n",
    "        tt.set_text(f\"t = {frame_idx} / {T-1}\")\n",
    "        return (im, tt)\n",
    "\n",
    "    anim = FuncAnimation(fig, update, frames=T, interval=interval, blit=True, repeat=repeat)\n",
    "\n",
    "    # Optional saving\n",
    "    if save_path:\n",
    "        if save_path.lower().endswith(\".mp4\"):\n",
    "            from matplotlib.animation import FFMpegWriter\n",
    "            anim.save(save_path, writer=FFMpegWriter(fps=fps), dpi=dpi)\n",
    "        elif save_path.lower().endswith(\".gif\"):\n",
    "            from matplotlib.animation import PillowWriter\n",
    "            anim.save(save_path, writer=PillowWriter(fps=fps), dpi=dpi)\n",
    "        else:\n",
    "            print(\"Unsupported save_path extension; use .mp4 or .gif\")\n",
    "\n",
    "    plt.close(fig)  # prevent duplicate static figure output\n",
    "\n",
    "# -------------------------\n",
    "animate_phi(phi, fps=25, cmap=\"bwr\", save_path=\"phasefield.mp4\") "
   ]
  },
  {
   "cell_type": "code",
   "execution_count": null,
   "id": "5fe2a399",
   "metadata": {},
   "outputs": [],
   "source": []
  }
 ],
 "metadata": {
  "kernelspec": {
   "display_name": "sam",
   "language": "python",
   "name": "python3"
  },
  "language_info": {
   "codemirror_mode": {
    "name": "ipython",
    "version": 3
   },
   "file_extension": ".py",
   "mimetype": "text/x-python",
   "name": "python",
   "nbconvert_exporter": "python",
   "pygments_lexer": "ipython3",
   "version": "3.12.3"
  }
 },
 "nbformat": 4,
 "nbformat_minor": 5
}
