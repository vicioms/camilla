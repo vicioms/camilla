{
 "cells": [
  {
   "cell_type": "code",
   "execution_count": 2,
   "id": "3522f661",
   "metadata": {},
   "outputs": [],
   "source": [
    "import numpy as np\n",
    "import pandas as pd\n",
    "import matplotlib.pyplot as plt\n",
    "import scipy.stats as stats"
   ]
  },
  {
   "cell_type": "code",
   "execution_count": 5,
   "id": "048110ee",
   "metadata": {},
   "outputs": [],
   "source": [
    "data = pd.read_csv('SP500.csv', parse_dates=['observation_date'])\n",
    "data.dropna(inplace=True)\n",
    "t = (data['observation_date'] - data['observation_date'].iloc[0]).values.astype('timedelta64[D]')\n",
    "x = data['SP500'].values\n",
    "r = np.log10(x / x[0])\n",
    "regr = stats.linregress(t.astype(float), r)\n",
    "z = r - regr.intercept - regr.slope * t.astype(float)"
   ]
  }
 ],
 "metadata": {
  "kernelspec": {
   "display_name": "sam",
   "language": "python",
   "name": "python3"
  },
  "language_info": {
   "codemirror_mode": {
    "name": "ipython",
    "version": 3
   },
   "file_extension": ".py",
   "mimetype": "text/x-python",
   "name": "python",
   "nbconvert_exporter": "python",
   "pygments_lexer": "ipython3",
   "version": "3.12.3"
  }
 },
 "nbformat": 4,
 "nbformat_minor": 5
}
