{
 "cells": [
  {
   "cell_type": "code",
   "execution_count": 45,
   "metadata": {},
   "outputs": [],
   "source": [
    "import numpy as np\n",
    "import torch\n",
    "import json\n",
    "import open3d as o3d"
   ]
  },
  {
   "cell_type": "code",
   "execution_count": 46,
   "id": "61af2e8a",
   "metadata": {},
   "outputs": [],
   "source": [
    "data_dir = '/data/biophys/schimmenti/Repositories/single-cell-analysis-of-organoids/measurements/point_cloud_approach/'\n",
    "annotation_json = data_dir + 'annotations_DD.json'"
   ]
  },
  {
   "cell_type": "code",
   "execution_count": 47,
   "id": "24690da9",
   "metadata": {},
   "outputs": [],
   "source": [
    "with open(annotation_json) as f:\n",
    "    annotations = json.load(f)"
   ]
  },
  {
   "cell_type": "code",
   "execution_count": 48,
   "id": "a626df6d",
   "metadata": {},
   "outputs": [],
   "source": [
    "dataset = {}\n",
    "for file_key, anns in annotations.items():\n",
    "    pc_filename = data_dir + file_key\n",
    "    points = np.asarray(o3d.io.read_point_cloud(pc_filename).points)\n",
    "    identifier = file_key.split('/')[-1].split('.ply')[0]\n",
    "    dataset[identifier] = {'points': points, 'annotations': np.array(anns)}"
   ]
  },
  {
   "cell_type": "code",
   "execution_count": 56,
   "id": "9220efed",
   "metadata": {},
   "outputs": [],
   "source": [
    "import torch\n",
    "from torch_geometric.data import Data\n",
    "from torch_geometric.nn import knn_graph\n",
    "from torch_geometric.utils import to_undirected\n",
    "\n",
    "def build_edge_labelled_knn_graph(points, point_labels, k):\n",
    "    \"\"\"\n",
    "    points: (N, d) float32 array/tensor with XYZ (or 2D) coords\n",
    "    point_labels: (N,) int/bool per-node annotations\n",
    "        Example rule below sets edge_label=1 if endpoints share the same node label.\n",
    "        Swap the rule to match your own definition.\n",
    "\n",
    "    Returns a PyG Data with:\n",
    "      - pos, x (=pos as default), edge_index\n",
    "      - edge_label_index (== edge_index)\n",
    "      - edge_label (E,)\n",
    "      - train/val/test masks over edges\n",
    "    \"\"\"\n",
    "    if not torch.is_tensor(points): points = torch.tensor(points, dtype=torch.float32)\n",
    "    if not torch.is_tensor(point_labels): point_labels = torch.tensor(point_labels)\n",
    "\n",
    "    pos = points\n",
    "    x   = pos  # or replace with your point features (N, F)\n",
    "\n",
    "    # kNN graph\n",
    "    edge_index = knn_graph(x=pos, k=k, loop=False)\n",
    "    edge_index = to_undirected(edge_index, num_nodes=pos.size(0))\n",
    "    src, dst = edge_index\n",
    "    edge_label = (point_labels[src] == point_labels[dst]).to(torch.long)\n",
    "\n",
    "    with torch.no_grad():\n",
    "        edge_vec = pos[dst] - pos[src]\n",
    "        edge_len = torch.linalg.norm(edge_vec, dim=1, keepdim=True)  # (E,1)\n",
    "    edge_attr = edge_len  # or torch.cat([edge_vec, edge_len], dim=1)\n",
    "\n",
    "    data = Data(\n",
    "        x=x, pos=pos, edge_index=edge_index,\n",
    "        edge_attr=edge_attr,\n",
    "        edge_label=edge_label,\n",
    "        edge_label_index=edge_index, \n",
    "    )\n",
    "    return data"
   ]
  },
  {
   "cell_type": "code",
   "execution_count": 57,
   "id": "9a452693",
   "metadata": {},
   "outputs": [
    {
     "ename": "ImportError",
     "evalue": "'knn_graph' requires 'torch-cluster'",
     "output_type": "error",
     "traceback": [
      "\u001b[0;31m---------------------------------------------------------------------------\u001b[0m",
      "\u001b[0;31mImportError\u001b[0m                               Traceback (most recent call last)",
      "Cell \u001b[0;32mIn[57], line 2\u001b[0m\n\u001b[1;32m      1\u001b[0m \u001b[38;5;28;01mfor\u001b[39;00m key \u001b[38;5;129;01min\u001b[39;00m dataset\u001b[38;5;241m.\u001b[39mkeys():\n\u001b[0;32m----> 2\u001b[0m     data \u001b[38;5;241m=\u001b[39m \u001b[43mbuild_edge_labelled_knn_graph\u001b[49m\u001b[43m(\u001b[49m\u001b[43mdataset\u001b[49m\u001b[43m[\u001b[49m\u001b[43mkey\u001b[49m\u001b[43m]\u001b[49m\u001b[43m[\u001b[49m\u001b[38;5;124;43m'\u001b[39;49m\u001b[38;5;124;43mpoints\u001b[39;49m\u001b[38;5;124;43m'\u001b[39;49m\u001b[43m]\u001b[49m\u001b[43m,\u001b[49m\u001b[43m \u001b[49m\u001b[43mdataset\u001b[49m\u001b[43m[\u001b[49m\u001b[43mkey\u001b[49m\u001b[43m]\u001b[49m\u001b[43m[\u001b[49m\u001b[38;5;124;43m'\u001b[39;49m\u001b[38;5;124;43mannotations\u001b[39;49m\u001b[38;5;124;43m'\u001b[39;49m\u001b[43m]\u001b[49m\u001b[43m,\u001b[49m\u001b[43m \u001b[49m\u001b[43mk\u001b[49m\u001b[38;5;241;43m=\u001b[39;49m\u001b[38;5;241;43m16\u001b[39;49m\u001b[43m)\u001b[49m\n",
      "Cell \u001b[0;32mIn[56], line 26\u001b[0m, in \u001b[0;36mbuild_edge_labelled_knn_graph\u001b[0;34m(points, point_labels, k)\u001b[0m\n\u001b[1;32m     23\u001b[0m x   \u001b[38;5;241m=\u001b[39m pos  \u001b[38;5;66;03m# or replace with your point features (N, F)\u001b[39;00m\n\u001b[1;32m     25\u001b[0m \u001b[38;5;66;03m# kNN graph\u001b[39;00m\n\u001b[0;32m---> 26\u001b[0m edge_index \u001b[38;5;241m=\u001b[39m \u001b[43mknn_graph\u001b[49m\u001b[43m(\u001b[49m\u001b[43mx\u001b[49m\u001b[38;5;241;43m=\u001b[39;49m\u001b[43mpos\u001b[49m\u001b[43m,\u001b[49m\u001b[43m \u001b[49m\u001b[43mk\u001b[49m\u001b[38;5;241;43m=\u001b[39;49m\u001b[43mk\u001b[49m\u001b[43m,\u001b[49m\u001b[43m \u001b[49m\u001b[43mloop\u001b[49m\u001b[38;5;241;43m=\u001b[39;49m\u001b[38;5;28;43;01mFalse\u001b[39;49;00m\u001b[43m)\u001b[49m\n\u001b[1;32m     27\u001b[0m edge_index \u001b[38;5;241m=\u001b[39m to_undirected(edge_index, num_nodes\u001b[38;5;241m=\u001b[39mpos\u001b[38;5;241m.\u001b[39msize(\u001b[38;5;241m0\u001b[39m))\n\u001b[1;32m     28\u001b[0m src, dst \u001b[38;5;241m=\u001b[39m edge_index\n",
      "File \u001b[0;32m~/anaconda3/envs/sam/lib/python3.12/site-packages/torch_geometric/nn/pool/__init__.py:171\u001b[0m, in \u001b[0;36mknn_graph\u001b[0;34m(x, k, batch, loop, flow, cosine, num_workers, batch_size)\u001b[0m\n\u001b[1;32m    168\u001b[0m     batch \u001b[38;5;241m=\u001b[39m batch\u001b[38;5;241m.\u001b[39mto(x\u001b[38;5;241m.\u001b[39mdevice)\n\u001b[1;32m    170\u001b[0m \u001b[38;5;28;01mif\u001b[39;00m \u001b[38;5;129;01mnot\u001b[39;00m torch_geometric\u001b[38;5;241m.\u001b[39mtyping\u001b[38;5;241m.\u001b[39mWITH_TORCH_CLUSTER_BATCH_SIZE:\n\u001b[0;32m--> 171\u001b[0m     \u001b[38;5;28;01mreturn\u001b[39;00m \u001b[43mtorch_cluster\u001b[49m\u001b[38;5;241;43m.\u001b[39;49m\u001b[43mknn_graph\u001b[49m(x, k, batch, loop, flow, cosine,\n\u001b[1;32m    172\u001b[0m                                    num_workers)\n\u001b[1;32m    173\u001b[0m \u001b[38;5;28;01mreturn\u001b[39;00m torch_cluster\u001b[38;5;241m.\u001b[39mknn_graph(x, k, batch, loop, flow, cosine,\n\u001b[1;32m    174\u001b[0m                                num_workers, batch_size)\n",
      "File \u001b[0;32m~/anaconda3/envs/sam/lib/python3.12/site-packages/torch_geometric/typing.py:104\u001b[0m, in \u001b[0;36mTorchCluster.__getattr__\u001b[0;34m(self, key)\u001b[0m\n\u001b[1;32m    103\u001b[0m \u001b[38;5;28;01mdef\u001b[39;00m \u001b[38;5;21m__getattr__\u001b[39m(\u001b[38;5;28mself\u001b[39m, key: \u001b[38;5;28mstr\u001b[39m) \u001b[38;5;241m-\u001b[39m\u001b[38;5;241m>\u001b[39m Any:\n\u001b[0;32m--> 104\u001b[0m     \u001b[38;5;28;01mraise\u001b[39;00m \u001b[38;5;167;01mImportError\u001b[39;00m(\u001b[38;5;124mf\u001b[39m\u001b[38;5;124m\"\u001b[39m\u001b[38;5;124m'\u001b[39m\u001b[38;5;132;01m{\u001b[39;00mkey\u001b[38;5;132;01m}\u001b[39;00m\u001b[38;5;124m'\u001b[39m\u001b[38;5;124m requires \u001b[39m\u001b[38;5;124m'\u001b[39m\u001b[38;5;124mtorch-cluster\u001b[39m\u001b[38;5;124m'\u001b[39m\u001b[38;5;124m\"\u001b[39m)\n",
      "\u001b[0;31mImportError\u001b[0m: 'knn_graph' requires 'torch-cluster'"
     ]
    }
   ],
   "source": [
    "for key in dataset.keys():\n",
    "    data = build_edge_labelled_knn_graph(dataset[key]['points'], dataset[key]['annotations'], k=16)"
   ]
  },
  {
   "cell_type": "code",
   "execution_count": null,
   "id": "e1d60c30",
   "metadata": {},
   "outputs": [],
   "source": []
  }
 ],
 "metadata": {
  "kernelspec": {
   "display_name": "sam",
   "language": "python",
   "name": "python3"
  },
  "language_info": {
   "codemirror_mode": {
    "name": "ipython",
    "version": 3
   },
   "file_extension": ".py",
   "mimetype": "text/x-python",
   "name": "python",
   "nbconvert_exporter": "python",
   "pygments_lexer": "ipython3",
   "version": "3.12.3"
  }
 },
 "nbformat": 4,
 "nbformat_minor": 5
}
