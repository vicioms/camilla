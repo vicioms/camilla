{
 "cells": [
  {
   "cell_type": "code",
   "execution_count": 1,
   "metadata": {},
   "outputs": [
    {
     "name": "stdout",
     "output_type": "stream",
     "text": [
      "Jupyter environment detected. Enabling Open3D WebVisualizer.\n",
      "[Open3D INFO] WebRTC GUI backend enabled.\n",
      "[Open3D INFO] WebRTCWindowSystem: HTTP handshake server disabled.\n"
     ]
    }
   ],
   "source": [
    "import numpy as np\n",
    "import torch\n",
    "import json\n",
    "import open3d as o3d"
   ]
  },
  {
   "cell_type": "code",
   "execution_count": 2,
   "id": "61af2e8a",
   "metadata": {},
   "outputs": [],
   "source": [
    "data_dir = '/data/biophys/schimmenti/Repositories/single-cell-analysis-of-organoids/measurements/point_cloud_approach/'\n",
    "annotation_json = data_dir + 'annotations_DD.json'"
   ]
  },
  {
   "cell_type": "code",
   "execution_count": 3,
   "id": "24690da9",
   "metadata": {},
   "outputs": [],
   "source": [
    "with open(annotation_json) as f:\n",
    "    annotations = json.load(f)"
   ]
  },
  {
   "cell_type": "code",
   "execution_count": 27,
   "id": "a626df6d",
   "metadata": {},
   "outputs": [],
   "source": [
    "dataset = {}\n",
    "for file_key, anns in annotations.items():\n",
    "    pc_filename = data_dir + file_key\n",
    "    points = np.asarray(o3d.io.read_point_cloud(pc_filename).points)\n",
    "    identifier = file_key.split('/')[-1].split('.ply')[0]\n",
    "    dataset[identifier] = {'points': points, 'annotations': np.array(anns)}"
   ]
  },
  {
   "cell_type": "code",
   "execution_count": 29,
   "id": "9220efed",
   "metadata": {},
   "outputs": [],
   "source": [
    "import torch\n",
    "from torch_geometric.data import Data\n",
    "from torch_geometric.nn import knn_graph\n",
    "from torch_geometric.utils import to_undirected\n",
    "from torch_geometric.data import InMemoryDataset\n",
    "from torch_geometric.loader import DataLoader\n",
    "\n",
    "def build_edge_labelled_knn_graph(points, point_labels, k):\n",
    "    \"\"\"\n",
    "    points: (N, d) float32 array/tensor with XYZ (or 2D) coords\n",
    "    point_labels: (N,) int/bool per-node annotations\n",
    "        Example rule below sets edge_label=1 if endpoints share the same node label.\n",
    "        Swap the rule to match your own definition.\n",
    "\n",
    "    Returns a PyG Data with:\n",
    "      - pos, x (=pos as default), edge_index\n",
    "      - edge_label_index (== edge_index)\n",
    "      - edge_label (E,)\n",
    "      - train/val/test masks over edges\n",
    "    \"\"\"\n",
    "    if not torch.is_tensor(points): points = torch.tensor(points, dtype=torch.float32)\n",
    "    if not torch.is_tensor(point_labels): point_labels = torch.tensor(point_labels)\n",
    "\n",
    "    pos = points\n",
    "    x   = pos  # or replace with your point features (N, F)\n",
    "\n",
    "    # kNN graph\n",
    "    edge_index = knn_graph(x=pos, k=k, loop=False)\n",
    "    edge_index = to_undirected(edge_index, num_nodes=pos.size(0))\n",
    "    src, dst = edge_index\n",
    "    edge_label = (point_labels[src] == point_labels[dst]).to(torch.long)\n",
    "\n",
    "    with torch.no_grad():\n",
    "        edge_vec = pos[dst] - pos[src]\n",
    "        edge_len = torch.linalg.norm(edge_vec, dim=1, keepdim=True)  # (E,1)\n",
    "    edge_attr = torch.cat([edge_vec, edge_len], dim=1)\n",
    "\n",
    "    data = Data(\n",
    "        x=x, pos=pos, edge_index=edge_index,\n",
    "        edge_attr=edge_attr,\n",
    "        edge_label=edge_label,\n",
    "        edge_label_index=edge_index, \n",
    "    )\n",
    "    return data"
   ]
  },
  {
   "cell_type": "code",
   "execution_count": 32,
   "id": "9a452693",
   "metadata": {},
   "outputs": [],
   "source": [
    "data_list =  []\n",
    "for key in dataset.keys():\n",
    "    centered_scaled_points = dataset[key]['points'] - dataset[key]['points'].mean(axis=0)\n",
    "    centered_scaled_points /= centered_scaled_points.std(axis=0)\n",
    "    data = build_edge_labelled_knn_graph(centered_scaled_points, dataset[key]['annotations'], k=6)\n",
    "    data_list.append(data)\n",
    "data_ldr = DataLoader(data_list, batch_size=6, shuffle=True)"
   ]
  }
 ],
 "metadata": {
  "kernelspec": {
   "display_name": "sam",
   "language": "python",
   "name": "python3"
  },
  "language_info": {
   "codemirror_mode": {
    "name": "ipython",
    "version": 3
   },
   "file_extension": ".py",
   "mimetype": "text/x-python",
   "name": "python",
   "nbconvert_exporter": "python",
   "pygments_lexer": "ipython3",
   "version": "3.12.3"
  }
 },
 "nbformat": 4,
 "nbformat_minor": 5
}
